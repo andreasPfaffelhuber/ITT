{
 "cells": [
  {
   "cell_type": "code",
   "execution_count": 4,
   "metadata": {},
   "outputs": [
    {
     "name": "stdout",
     "output_type": "stream",
     "text": [
      "         event    user_id   time (ms)  trail_name\n",
      "0          key          1           0          IT\n",
      "1          key          1           0          IT\n",
      "2         word          1        1717          IT\n",
      "3          key          1           0          IT\n",
      "4          key          1           0          IT\n",
      "5         word          1        1167          IT\n",
      "6          key          1           0          IT\n",
      "7          key          1           0          IT\n",
      "8         word          1        1444          IT\n",
      "9          key          1           0          IT\n",
      "10         key          1           0          IT\n",
      "11         key          1           0          IT\n",
      "12        word          1        1402          IT\n",
      "13         key          1           0          IT\n",
      "14         key          1           0          IT\n",
      "15         key          1           0          IT\n",
      "16    sentence          1        9422          IT\n",
      "17         key          1           0          NT\n",
      "18         key          1           0          NT\n",
      "19         key          1           0          NT\n",
      "20         key          1           0          NT\n",
      "21         key          1           0          NT\n",
      "22         key          1           0          NT\n",
      "23        word          1         832          NT\n",
      "24         key          1           0          NT\n",
      "25         key          1           0          NT\n",
      "26         key          1           0          NT\n",
      "27        word          1         571          NT\n",
      "28         key          1           0          NT\n",
      "29         key          1           0          NT\n",
      "...        ...        ...         ...         ...\n",
      "1387       key          4           0          IT\n",
      "1388       key          4           0          IT\n",
      "1389  sentence          4        7922          IT\n",
      "1390       key          4           0          NT\n",
      "1391       key          4           0          NT\n",
      "1392       key          4           0          NT\n",
      "1393       key          4           0          NT\n",
      "1394       key          4           0          NT\n",
      "1395       key          4           0          NT\n",
      "1396      word          4         565          NT\n",
      "1397       key          4           0          NT\n",
      "1398       key          4           0          NT\n",
      "1399       key          4           0          NT\n",
      "1400       key          4           0          NT\n",
      "1401      word          4         672          NT\n",
      "1402       key          4           0          NT\n",
      "1403       key          4           0          NT\n",
      "1404      word          4         494          NT\n",
      "1405       key          4           0          NT\n",
      "1406       key          4           0          NT\n",
      "1407       key          4           0          NT\n",
      "1408      word          4         418          NT\n",
      "1409       key          4           0          NT\n",
      "1410       key          4           0          NT\n",
      "1411       key          4           0          NT\n",
      "1412       key          4           0          NT\n",
      "1413       key          4           0          NT\n",
      "1414       key          4           0          NT\n",
      "1415  sentence          4        3265          NT\n",
      "1416      test   finished       76982    finished\n",
      "\n",
      "[1417 rows x 4 columns]\n"
     ]
    }
   ],
   "source": [
    "%matplotlib inline\n",
    "import pandas\n",
    "\n",
    "# Reads in the csv file\n",
    "data = pandas.read_csv(\"data.csv\", \n",
    "                   sep=\";\", \n",
    "                   header=\"infer\", \n",
    "                   usecols=[\" user_id\", \n",
    "                            \" time (ms)\",\n",
    "                            \"event\",\n",
    "                            \" trail_name\"])\n",
    "# Extracts the relevant data\n",
    "#data[\" user_id\"] = pandas.to_numeric(data[\" user_id\"])\n",
    "#data[\"movement_time (ms)\"] = pandas.to_timedelta(data[\"ReactionTime\"])\n",
    "#data[\"movement_time (ms)\"] = data[\"movement_time (ms)\"].dt.total_seconds()\n",
    "print(data)"
   ]
  },
  {
   "cell_type": "markdown",
   "metadata": {},
   "source": [
    "### Boxplot to visualize the times (ms) of all participants"
   ]
  },
  {
   "cell_type": "code",
   "execution_count": 9,
   "metadata": {},
   "outputs": [
    {
     "data": {
      "image/png": "[encoded data removed]",
      "text/plain": [
       "<Figure size 432x288 with 1 Axes>"
      ]
     },
     "metadata": {
      "needs_background": "light"
     },
     "output_type": "display_data"
    }
   ],
   "source": [
    "# Participant 1\n",
    "p1 = data[(data[\" user_id\"] == \" 1\") & (data[\"event\"] == \"sentence\")].reset_index()\n",
    "\n",
    "# Participant 2\n",
    "p2 = data[(data[\" user_id\"] == \" 2\") & (data[\"event\"] == \"sentence\")].reset_index()\n",
    "\n",
    "# Participant 3\n",
    "p3 = data[(data[\" user_id\"] == \" 3\") & (data[\"event\"] == \"sentence\")].reset_index()\n",
    "\n",
    "# Participant 4\n",
    "p4 = data[(data[\" user_id\"] == \" 4\") & (data[\"event\"] == \"sentence\")].reset_index()\n",
    "\n",
    "times_per_participant = pandas.concat([p1[' time (ms)'], \n",
    "                                       p2[' time (ms)'], \n",
    "                                       p3[' time (ms)'], \n",
    "                                       p4[' time (ms)']], \n",
    "                                      axis=1, \n",
    "                                      keys=['P1', 'P2', 'P3', 'P4'])\n",
    "boxplot_tpc = times_per_participant.boxplot(column=['P1', 'P2', 'P3', 'P4'])\n",
    "boxplot_tpc.set_ylabel(\"Input time in msec\")\n",
    "boxplot_tpc = boxplot_tpc.set_xlabel(\"Participant\")"
   ]
  },
  {
   "cell_type": "markdown",
   "metadata": {},
   "source": [
    "### Boxplot to visualize the times (ms) of all conditions"
   ]
  },
  {
   "cell_type": "code",
   "execution_count": 10,
   "metadata": {},
   "outputs": [
    {
     "data": {
      "image/png": "[encoded data removed]",
      "text/plain": [
       "<Figure size 432x288 with 1 Axes>"
      ]
     },
     "metadata": {
      "needs_background": "light"
     },
     "output_type": "display_data"
    }
   ],
   "source": [
    "\n",
    "it = data[(data[\" trail_name\"] == \" IT\") & (data[\"event\"] == \"sentence\")].reset_index()\n",
    "\n",
    "# Pointing with low distance (PL)\n",
    "nt = data[(data[\" trail_name\"] == \" NT\") & (data[\"event\"] == \"sentence\")].reset_index()\n",
    "\n",
    "times_per_condition = pandas.concat([it[' time (ms)'], \n",
    "                                     nt[' time (ms)']],\n",
    "                                    axis=1, \n",
    "                                    keys=['IT', 'NT'])\n",
    "boxplot_tpc = times_per_condition.boxplot(column=['IT', 'NT'])\n",
    "boxplot_tpc.set_ylabel(\"Input time in msec\")\n",
    "boxplot_tpc = boxplot_tpc.set_xlabel(\"Condition\")"
   ]
  },
  {
   "cell_type": "markdown",
   "metadata": {},
   "source": [
    "### t-test it vs nt"
   ]
  },
  {
   "cell_type": "code",
   "execution_count": 11,
   "metadata": {},
   "outputs": [
    {
     "data": {
      "text/plain": [
       "Ttest_relResult(statistic=3.1640375620209156, pvalue=0.005109578048749876)"
      ]
     },
     "execution_count": 11,
     "metadata": {},
     "output_type": "execute_result"
    }
   ],
   "source": [
    "from scipy.stats import ttest_rel\n",
    "\n",
    "ttest_rel(it[' time (ms)'], nt[' time (ms)'])"
   ]
  },
  {
   "cell_type": "code",
   "execution_count": null,
   "metadata": {},
   "outputs": [],
   "source": []
  }
 ],
 "metadata": {
  "kernelspec": {
   "display_name": "Python 3",
   "language": "python",
   "name": "python3"
  },
  "language_info": {
   "codemirror_mode": {
    "name": "ipython",
    "version": 3
   },
   "file_extension": ".py",
   "mimetype": "text/x-python",
   "name": "python",
   "nbconvert_exporter": "python",
   "pygments_lexer": "ipython3",
   "version": "3.7.3rc1"
  }
 },
 "nbformat": 4,
 "nbformat_minor": 2
}
