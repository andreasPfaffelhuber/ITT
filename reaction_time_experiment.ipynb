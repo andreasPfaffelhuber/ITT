{
 "cells": [
  {
   "cell_type": "code",
   "execution_count": null,
   "metadata": {},
   "outputs": [],
   "source": [
    "# Reaction Time Analysis"
   ]
  },
  {
   "cell_type": "markdown",
   "metadata": {},
   "source": [
    "## Description"
   ]
  },
  {
   "cell_type": "markdown",
   "metadata": {},
   "source": [
    "### Setup:\n",
    "We conducted an experiment where the participants had to press one of two keys (g or h) for the shown trail which had specific factors.\n",
    "#### Factors & Trails:\n",
    "The factors for our experiment are the following:\n",
    "- Amount of mental processing required:\n",
    "    - Pre-Attentive processing: Red and blue squares\n",
    "    - Attentive processing: Even and odd numbers (1-100)\n",
    "- Distraction:\n",
    "    - Distraction: Changing, green dots on the background\n",
    "    - No distraction\n",
    "\n",
    "Therefore we had four different trials with two different stimuli and either a given mental\n",
    "complexity or no mental complexity:\n",
    "- Attentive processing with distraction (AD)\n",
    "- Attentive processing without distraction (AN)\n",
    "- Pre-Attentive processing with distraction (PD)\n",
    "- Pre-Attentive processing without distraction (PN)\n",
    "\n",
    "#### Variables:\n",
    "- Independent: the amount of mental processing required (Binary choice between Attentive and Pre-Attentive Processing) and whether there is a distraction in the background (Binary choice between a present distraction and no distraction at all)\n",
    "- Dependent: reaction time needed to input the correct corresponding key\n",
    "- Controlled: pressed keys (g,h), finger position\n",
    "- Confounding: limited through experiment in a laboratory and counterbalancing the trails through the balanced latin square approach\n",
    "\n",
    "### Participants:\n",
    "The experiment was conducted with four participants. The participants had all experience with computers, were in the same age and had no health issues effecting the reaction time. Thereby we were able to ensure that everybody was quite on the same level, and that results should be representative for the given background."
   ]
  },
  {
   "cell_type": "markdown",
   "metadata": {},
   "source": [
    "## Data handling"
   ]
  },
  {
   "cell_type": "code",
   "execution_count": 19,
   "metadata": {},
   "outputs": [
    {
     "name": "stdout",
     "output_type": "stream",
     "text": [
      "     ParticipantID     Complexity Distraction  ReactionTime\n",
      "0                1      Attentive         Yes      1.055722\n",
      "1                1      Attentive          No      1.014640\n",
      "2                1  Pre-attentive         Yes      1.308776\n",
      "3                1  Pre-attentive          No      0.976670\n",
      "4                1      Attentive         Yes      1.516931\n",
      "5                1      Attentive          No      0.851083\n",
      "6                1  Pre-attentive         Yes      1.346768\n",
      "7                1  Pre-attentive          No      0.831221\n",
      "8                1      Attentive         Yes      1.134973\n",
      "9                1      Attentive          No      1.148035\n",
      "10               1  Pre-attentive         Yes      1.177832\n",
      "11               1  Pre-attentive          No      0.922510\n",
      "12               1      Attentive         Yes      0.905383\n",
      "13               1      Attentive          No      0.713187\n",
      "14               1  Pre-attentive         Yes      1.076595\n",
      "15               1  Pre-attentive          No      0.597771\n",
      "16               1      Attentive         Yes      1.108296\n",
      "17               1      Attentive          No      1.242192\n",
      "18               1  Pre-attentive         Yes      1.475612\n",
      "19               1  Pre-attentive          No      0.745662\n",
      "20               1      Attentive         Yes      0.894578\n",
      "21               1      Attentive          No      0.927493\n",
      "22               1  Pre-attentive         Yes      1.031453\n",
      "23               1  Pre-attentive          No      0.874841\n",
      "24               1      Attentive         Yes      1.055267\n",
      "25               1      Attentive          No      1.134710\n",
      "26               1  Pre-attentive         Yes      1.329622\n",
      "27               1  Pre-attentive          No      1.068122\n",
      "28               1      Attentive         Yes      1.022865\n",
      "29               1      Attentive          No      0.860475\n",
      "..             ...            ...         ...           ...\n",
      "130              4  Pre-attentive          No      0.826568\n",
      "131              4      Attentive          No      0.772527\n",
      "132              4  Pre-attentive         Yes      1.005516\n",
      "133              4      Attentive         Yes      0.722096\n",
      "134              4  Pre-attentive          No      0.917280\n",
      "135              4      Attentive          No      0.891416\n",
      "136              4  Pre-attentive         Yes      0.798064\n",
      "137              4      Attentive         Yes      1.001020\n",
      "138              4  Pre-attentive          No      0.553318\n",
      "139              4      Attentive          No      0.705324\n",
      "140              4  Pre-attentive         Yes      0.895006\n",
      "141              4      Attentive         Yes      0.642323\n",
      "142              4  Pre-attentive          No      0.699065\n",
      "143              4      Attentive          No      0.695231\n",
      "144              4  Pre-attentive         Yes      0.790971\n",
      "145              4      Attentive         Yes      1.030053\n",
      "146              4  Pre-attentive          No      0.654561\n",
      "147              4      Attentive          No      0.672745\n",
      "148              4  Pre-attentive         Yes      1.044640\n",
      "149              4      Attentive         Yes      0.838995\n",
      "150              4  Pre-attentive          No      1.122374\n",
      "151              4      Attentive          No      0.720701\n",
      "152              4  Pre-attentive         Yes      0.782006\n",
      "153              4      Attentive         Yes      1.728710\n",
      "154              4  Pre-attentive          No      0.940166\n",
      "155              4      Attentive          No      1.124490\n",
      "156              4  Pre-attentive         Yes      0.839903\n",
      "157              4      Attentive         Yes      0.820164\n",
      "158              4  Pre-attentive          No      0.675255\n",
      "159              4      Attentive          No      1.355959\n",
      "\n",
      "[160 rows x 4 columns]\n"
     ]
    }
   ],
   "source": [
    "import pandas\n",
    "\n",
    "# Reads in the csv file\n",
    "data = pandas.read_csv(\"reaction_time_results.csv\", \n",
    "                   sep=\",\", \n",
    "                   header=\"infer\", \n",
    "                   usecols=[\"ParticipantID\", \n",
    "                            \"Complexity\", \n",
    "                            \"Distraction\", \n",
    "                            \"ReactionTime\"])\n",
    "# Extracts the relevant data\n",
    "data[\"ParticipantID\"] = pandas.to_numeric(data[\"ParticipantID\"])\n",
    "data[\"ReactionTime\"] = pandas.to_timedelta(data[\"ReactionTime\"])\n",
    "data[\"ReactionTime\"] = data[\"ReactionTime\"].dt.total_seconds()\n",
    "print(data)"
   ]
  },
  {
   "cell_type": "markdown",
   "metadata": {},
   "source": [
    "## Scatterplots"
   ]
  },
  {
   "cell_type": "markdown",
   "metadata": {},
   "source": [
    "### Attentive processing with distraction (AD)"
   ]
  },
  {
   "cell_type": "code",
   "execution_count": 20,
   "metadata": {
    "scrolled": true
   },
   "outputs": [
    {
     "data": {
      "image/png": "[encoded data removed]",
      "text/plain": [
       "<Figure size 432x288 with 1 Axes>"
      ]
     },
     "metadata": {
      "needs_background": "light"
     },
     "output_type": "display_data"
    }
   ],
   "source": [
    "ad = data[(data[\"Complexity\"] == \"Attentive\") \n",
    "          & (data[\"Distraction\"] == \"Yes\")].reset_index(drop=True)\n",
    "ad.index += 1\n",
    "ad['Trial'] = ad.index\n",
    "adPlot = ad.plot.scatter(x='Trial', \n",
    "                         y='ReactionTime', \n",
    "                         label='AD')\n",
    "adPlot = adPlot.set_ylabel(\"Reaction time in sec\")"
   ]
  },
  {
   "cell_type": "markdown",
   "metadata": {},
   "source": [
    "### Attentive processing without distraction (AN)"
   ]
  },
  {
   "cell_type": "code",
   "execution_count": 21,
   "metadata": {},
   "outputs": [
    {
     "data": {
      "image/png": "[encoded data removed]",
      "text/plain": [
       "<Figure size 432x288 with 1 Axes>"
      ]
     },
     "metadata": {
      "needs_background": "light"
     },
     "output_type": "display_data"
    }
   ],
   "source": [
    "an = data[(data[\"Complexity\"] == \"Attentive\")\n",
    "          & (data[\"Distraction\"] == \"No\")].reset_index(drop=True)\n",
    "an.index += 1\n",
    "an['Trial'] = an.index\n",
    "anPlot = an.plot.scatter(x='Trial', \n",
    "                         y='ReactionTime', \n",
    "                         label='AN')\n",
    "anPlot = anPlot.set_ylabel(\"Reaction time in sec\")"
   ]
  },
  {
   "cell_type": "markdown",
   "metadata": {},
   "source": [
    "### Pre-attentive with distraction (PD)"
   ]
  },
  {
   "cell_type": "code",
   "execution_count": 22,
   "metadata": {},
   "outputs": [
    {
     "data": {
      "image/png": "[encoded data removed]",
      "text/plain": [
       "<Figure size 432x288 with 1 Axes>"
      ]
     },
     "metadata": {
      "needs_background": "light"
     },
     "output_type": "display_data"
    }
   ],
   "source": [
    "pd = data[(data[\"Complexity\"] == \"Pre-attentive\") \n",
    "          & (data[\"Distraction\"] == \"Yes\")].reset_index(drop=True)\n",
    "pd.index += 1\n",
    "pd['Trial'] = pd.index\n",
    "pdPlot = pd.plot.scatter(x='Trial',\n",
    "                         y='ReactionTime', \n",
    "                         label='PD')\n",
    "pdPlot = pdPlot.set_ylabel(\"Reaction time in sec\")"
   ]
  },
  {
   "cell_type": "markdown",
   "metadata": {},
   "source": [
    "### Pre-attentive without distraction (PN)"
   ]
  },
  {
   "cell_type": "code",
   "execution_count": 23,
   "metadata": {},
   "outputs": [
    {
     "data": {
      "image/png": "[encoded data removed]",
      "text/plain": [
       "<Figure size 432x288 with 1 Axes>"
      ]
     },
     "metadata": {
      "needs_background": "light"
     },
     "output_type": "display_data"
    }
   ],
   "source": [
    "pn = data[(data[\"Complexity\"] == \"Pre-attentive\") \n",
    "          & (data[\"Distraction\"] == \"No\")].reset_index()\n",
    "pn.index += 1\n",
    "pn['Trial'] = pn.index\n",
    "pnPlot = pn.plot.scatter(x='Trial',\n",
    "                         y='ReactionTime', \n",
    "                         label='PN')\n",
    "pnPlot = pnPlot.set_ylabel(\"Reaction time in sec\")"
   ]
  },
  {
   "cell_type": "markdown",
   "metadata": {},
   "source": [
    "### All conditions (AD, AN, PD, PN)"
   ]
  },
  {
   "cell_type": "code",
   "execution_count": 24,
   "metadata": {},
   "outputs": [
    {
     "data": {
      "image/png": "[encoded data removed]",
      "text/plain": [
       "<Figure size 432x288 with 1 Axes>"
      ]
     },
     "metadata": {
      "needs_background": "light"
     },
     "output_type": "display_data"
    }
   ],
   "source": [
    "# Attentive and distraction\n",
    "ad = data[(data[\"Complexity\"] == \"Attentive\") \n",
    "          & (data[\"Distraction\"] == \"Yes\")].reset_index(drop=True)\n",
    "ad.index += 1\n",
    "ad['Trial'] = ad.index\n",
    "adPlot = ad.plot(kind='scatter', \n",
    "                 x='Trial',\n",
    "                 y='ReactionTime', \n",
    "                 label='AD', \n",
    "                 color='red');\n",
    "\n",
    "# Attentive and no distraction\n",
    "an = data[(data[\"Complexity\"] == \"Attentive\") \n",
    "          & (data[\"Distraction\"] == \"No\")].reset_index(drop=True)\n",
    "an.index += 1\n",
    "an['Trial'] = an.index\n",
    "anPlot = an.plot(kind='scatter', \n",
    "                 x='Trial', \n",
    "                 y='ReactionTime',\n",
    "                 label='AN', \n",
    "                 color='green',\n",
    "                 ax=adPlot);\n",
    "\n",
    "#Pre-attentive and distraction\n",
    "pd = data[(data[\"Complexity\"] == \"Pre-attentive\") \n",
    "          & (data[\"Distraction\"] == \"Yes\")].reset_index(drop=True)\n",
    "pd.index += 1\n",
    "pd['Trial'] = pd.index\n",
    "pdPlot = pd.plot(kind='scatter',\n",
    "                 x='Trial',\n",
    "                         y='ReactionTime', label='PD', color='blue', ax=anPlot)\n",
    "\n",
    "# Pre-attentive and no distraction\n",
    "pn = data[(data[\"Complexity\"] == \"Pre-attentive\") \n",
    "          & (data[\"Distraction\"] == \"No\")].reset_index()\n",
    "pn.index += 1\n",
    "pn['Trial'] = pn.index\n",
    "pnPlot = pn.plot(kind='scatter', x='Trial',\n",
    "                         y='ReactionTime', label='PN', color='magenta', ax=pdPlot)\n",
    "pnPlot = pnPlot.set_ylabel(\"Reaction time in sec\")"
   ]
  },
  {
   "cell_type": "markdown",
   "metadata": {},
   "source": [
    "## Boxplot to visualize the reaction times of all conditions"
   ]
  },
  {
   "cell_type": "code",
   "execution_count": 30,
   "metadata": {},
   "outputs": [
    {
     "data": {
      "image/png": "[encoded data removed]",
      "text/plain": [
       "<Figure size 432x288 with 1 Axes>"
      ]
     },
     "metadata": {
      "needs_background": "light"
     },
     "output_type": "display_data"
    }
   ],
   "source": [
    "times_per_condition = pandas.concat([ad['ReactionTime'], an['ReactionTime'], pd['ReactionTime'], pn['ReactionTime'] ],\n",
    "                                    axis=1, keys=['AD', 'AN', 'PD', 'PN'])\n",
    "boxplot_tpc = times_per_condition.boxplot(column=['AD', 'AN', 'PD', 'PN'])\n"
   ]
  },
  {
   "cell_type": "markdown",
   "metadata": {},
   "source": [
    "## Boxplot to visualize the reaction times for attentive and pre-attentive conditions"
   ]
  },
  {
   "cell_type": "code",
   "execution_count": 44,
   "metadata": {},
   "outputs": [
    {
     "data": {
      "image/png": "[encoded data removed]",
      "text/plain": [
       "<Figure size 432x288 with 1 Axes>"
      ]
     },
     "metadata": {
      "needs_background": "light"
     },
     "output_type": "display_data"
    }
   ],
   "source": [
    "attentive = data[(data[\"Complexity\"] == \"Attentive\")].reset_index(drop=True)\n",
    "pre_attentive = data[(data[\"Complexity\"] == \"Pre-attentive\")].reset_index(drop=True)\n",
    "\n",
    "times_for_a_and_p = pandas.concat([attentive['ReactionTime'], pre_attentive[\"ReactionTime\"]],\n",
    "                                    axis=1, keys=['Attentive', 'Pre-Attentive'])\n",
    "\n",
    "boxplot_tfaap = times_for_a_and_p.boxplot(column=['Attentive', 'Pre-Attentive'])"
   ]
  },
  {
   "cell_type": "markdown",
   "metadata": {},
   "source": [
    "## t - Test to compare the reaction times for attentive and pre-attentive conditions"
   ]
  },
  {
   "cell_type": "code",
   "execution_count": 42,
   "metadata": {},
   "outputs": [
    {
     "data": {
      "text/plain": [
       "Ttest_relResult(statistic=0.4951856571369788, pvalue=0.6218436238420388)"
      ]
     },
     "execution_count": 42,
     "metadata": {},
     "output_type": "execute_result"
    }
   ],
   "source": [
    "from scipy.stats import ttest_rel\n",
    "\n",
    "ttest_rel(times_for_a_and_p['Attentive'], times_for_a_and_p['Pre-Attentive'])\n",
    "\n"
   ]
  },
  {
   "cell_type": "markdown",
   "metadata": {},
   "source": [
    "## Boxplot to visualize the reaction times for distracted and non-distracted conditions"
   ]
  },
  {
   "cell_type": "code",
   "execution_count": 47,
   "metadata": {},
   "outputs": [
    {
     "data": {
      "image/png": "[encoded data removed]",
      "text/plain": [
       "<Figure size 432x288 with 1 Axes>"
      ]
     },
     "metadata": {
      "needs_background": "light"
     },
     "output_type": "display_data"
    }
   ],
   "source": [
    "distracted = data[(data[\"Distraction\"] == \"Yes\")].reset_index(drop=True)\n",
    "non_distracted = data[(data[\"Distraction\"] == \"No\")].reset_index(drop=True)\n",
    "\n",
    "times_for_d_and_nd = pandas.concat([distracted['ReactionTime'], non_distracted[\"ReactionTime\"]],\n",
    "                                    axis=1, keys=['Distracted', 'Non-Distracted'])\n",
    "\n",
    "boxplot_tfdand = times_for_d_and_nd.boxplot(column=['Distracted', 'Non-Distracted'])"
   ]
  },
  {
   "cell_type": "markdown",
   "metadata": {},
   "source": [
    "## t - Test to compare the reaction times for distracted and non-distracted conditions"
   ]
  },
  {
   "cell_type": "code",
   "execution_count": 48,
   "metadata": {},
   "outputs": [
    {
     "data": {
      "text/plain": [
       "Ttest_relResult(statistic=4.679024272683011, pvalue=1.173940283009818e-05)"
      ]
     },
     "execution_count": 48,
     "metadata": {},
     "output_type": "execute_result"
    }
   ],
   "source": [
    "from scipy.stats import ttest_rel\n",
    "\n",
    "ttest_rel(times_for_d_and_nd['Distracted'], times_for_d_and_nd['Non-Distracted'])"
   ]
  },
  {
   "cell_type": "markdown",
   "metadata": {},
   "source": [
    "## Discussion and Results"
   ]
  },
  {
   "cell_type": "markdown",
   "metadata": {},
   "source": [
    "In our evaluation of the study, we plotted the logged reaction times of all done conditions, and then compared the reaction times of the attentive conditions with those of the pre-attentive conditions, as well as the ones of the distracted conditions with those of the non-distracted ones. To test wether there were any statistically significant differences between those conditions, a t-test for related samples was used (since the same participants were present in all of the conditions). \n",
    "\n",
    "For the comparison of the reaction times from attentive and pre-attentive conditions, the t-test showed a p-value of roughly 0.62, and we thus couldnt reject the null hypotheses that there is no difference between the mean of the attentive and the pre-attentive group\n",
    "\n",
    "For the comparison of the reaction times from distracted and non-distracted conditions, the t-test showed a p-value of roughly 0.000012 , and we thus could reject the null hypotheses that there is no difference between the mean of the distracted and the non-distracted group. Those means were found to be significantly different from one another, with the distracted group having a higher mean reaction time to press the korresponding keys (as displayed in the boxplot)"
   ]
  }
 ],
 "metadata": {
  "kernelspec": {
   "display_name": "Python 3",
   "language": "python",
   "name": "python3"
  },
  "language_info": {
   "codemirror_mode": {
    "name": "ipython",
    "version": 3
   },
   "file_extension": ".py",
   "mimetype": "text/x-python",
   "name": "python",
   "nbconvert_exporter": "python",
   "pygments_lexer": "ipython3",
   "version": "3.7.3rc1"
  }
 },
 "nbformat": 4,
 "nbformat_minor": 2
}
