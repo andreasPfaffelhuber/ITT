{
 "cells": [
  {
   "cell_type": "markdown",
   "metadata": {},
   "source": [
    "# Reaction Time Analysis"
   ]
  },
  {
   "cell_type": "markdown",
   "metadata": {},
   "source": [
    "## Description"
   ]
  },
  {
   "cell_type": "markdown",
   "metadata": {},
   "source": [
    "### Setup:\n",
    "We conducted an experiment where the participants had to press one of two keys (g or h) for the shown trail \n",
    "which had specific factors.\n",
    "#### Factors & Trails:\n",
    "The factors for our experiment are the following:\n",
    "- Amount of mental processing required:\n",
    "    - Pre-Attentive processing: Red and blue squares\n",
    "    - Attentive processing: Even and odd numbers (1-100)\n",
    "- Distraction:\n",
    "    - Distraction: Changing, green dots on the background\n",
    "    - No distraction\n",
    "\n",
    "Therefore we had four different trials with two different stimuli and either a given mental\n",
    "complexity or no mental complexity:\n",
    "- Attentive processing with distraction (AD)\n",
    "- Attentive processing without distraction (AN)\n",
    "- Pre-Attentive processing with distraction (PD)\n",
    "- Pre-Attentive processing without distraction (PN)\n",
    "\n",
    "#### Variables:\n",
    "- Independent: the amount of mental processing required (Binary choice between Attentive and Pre-Attentive \n",
    "    Processing) and whether there is a distraction in the background (Binary choice between a present \n",
    "    distraction and no distraction at all)\n",
    "- Dependent: reaction time needed to input the correct corresponding key\n",
    "- Controlled: pressed keys (g,h), finger position\n",
    "- Confounding: limited through experiment in a laboratory and counterbalancing the trails through the \n",
    "    balanced latin square approach\n",
    "\n",
    "### Participants:\n",
    "The experiment was conducted with four participants. The participants had all experience with computers,\n",
    "were in the same age and had no health issues effecting the reaction time. Thereby we were able to ensure \n",
    "that everybody was quite on the same level, and that results should be representative for the given background."
   ]
  },
  {
   "cell_type": "markdown",
   "metadata": {},
   "source": [
    "## Data handling"
   ]
  },
  {
   "cell_type": "code",
   "execution_count": null,
   "metadata": {},
   "outputs": [],
   "source": [
    "import pandas\n",
    "\n",
    "# Reads in the csv file\n",
    "data = pandas.read_csv(\"reaction_time_results.csv\", \n",
    "                   sep=\",\", \n",
    "                   header=\"infer\", \n",
    "                   usecols=[\"ParticipantID\", \n",
    "                            \"Complexity\", \n",
    "                            \"Distraction\", \n",
    "                            \"ReactionTime\"])\n",
    "# Extracts the relevant data\n",
    "data[\"ParticipantID\"] = pandas.to_numeric(data[\"ParticipantID\"])\n",
    "data[\"ReactionTime\"] = pandas.to_timedelta(data[\"ReactionTime\"])\n",
    "data[\"ReactionTime\"] = data[\"ReactionTime\"].dt.total_seconds()\n",
    "print(data)"
   ]
  },
  {
   "cell_type": "markdown",
   "metadata": {},
   "source": [
    "## Scatterplots"
   ]
  },
  {
   "cell_type": "markdown",
   "metadata": {},
   "source": [
    "### Attentive processing with distraction (AD)"
   ]
  },
  {
   "cell_type": "code",
   "execution_count": null,
   "metadata": {
    "scrolled": false
   },
   "outputs": [],
   "source": [
    "ad = data[(data[\"Complexity\"] == \"Attentive\") \n",
    "          & (data[\"Distraction\"] == \"Yes\")].reset_index(drop=True)\n",
    "ad.index += 1\n",
    "ad['Trial'] = ad.index\n",
    "adPlot = ad.plot.scatter(x='Trial', \n",
    "                         y='ReactionTime', \n",
    "                         label='AD')\n",
    "adPlot = adPlot.set_ylabel(\"Reaction time in sec\")"
   ]
  },
  {
   "cell_type": "markdown",
   "metadata": {},
   "source": [
    "### Attentive processing without distraction (AN)"
   ]
  },
  {
   "cell_type": "code",
   "execution_count": null,
   "metadata": {},
   "outputs": [],
   "source": [
    "an = data[(data[\"Complexity\"] == \"Attentive\")\n",
    "          & (data[\"Distraction\"] == \"No\")].reset_index(drop=True)\n",
    "an.index += 1\n",
    "an['Trial'] = an.index\n",
    "anPlot = an.plot.scatter(x='Trial', \n",
    "                         y='ReactionTime', \n",
    "                         label='AN')\n",
    "anPlot = anPlot.set_ylabel(\"Reaction time in sec\")"
   ]
  },
  {
   "cell_type": "markdown",
   "metadata": {},
   "source": [
    "### Pre-attentive with distraction (PD)"
   ]
  },
  {
   "cell_type": "code",
   "execution_count": null,
   "metadata": {},
   "outputs": [],
   "source": [
    "pd = data[(data[\"Complexity\"] == \"Pre-attentive\") \n",
    "          & (data[\"Distraction\"] == \"Yes\")].reset_index(drop=True)\n",
    "pd.index += 1\n",
    "pd['Trial'] = pd.index\n",
    "pdPlot = pd.plot.scatter(x='Trial',\n",
    "                         y='ReactionTime', \n",
    "                         label='PD')\n",
    "pdPlot = pdPlot.set_ylabel(\"Reaction time in sec\")"
   ]
  },
  {
   "cell_type": "markdown",
   "metadata": {},
   "source": [
    "### Pre-attentive without distraction (PN)"
   ]
  },
  {
   "cell_type": "code",
   "execution_count": null,
   "metadata": {},
   "outputs": [],
   "source": [
    "pn = data[(data[\"Complexity\"] == \"Pre-attentive\") \n",
    "          & (data[\"Distraction\"] == \"No\")].reset_index()\n",
    "pn.index += 1\n",
    "pn['Trial'] = pn.index\n",
    "pnPlot = pn.plot.scatter(x='Trial',\n",
    "                         y='ReactionTime', \n",
    "                         label='PN')\n",
    "pnPlot = pnPlot.set_ylabel(\"Reaction time in sec\")"
   ]
  },
  {
   "cell_type": "markdown",
   "metadata": {},
   "source": [
    "### All conditions (AD, AN, PD, PN)"
   ]
  },
  {
   "cell_type": "code",
   "execution_count": null,
   "metadata": {},
   "outputs": [],
   "source": [
    "# Attentive and distraction\n",
    "ad = data[(data[\"Complexity\"] == \"Attentive\") \n",
    "          & (data[\"Distraction\"] == \"Yes\")].reset_index(drop=True)\n",
    "ad.index += 1\n",
    "ad['Trial'] = ad.index\n",
    "adPlot = ad.plot(kind='scatter', \n",
    "                 x='Trial',\n",
    "                 y='ReactionTime', \n",
    "                 label='AD', \n",
    "                 color='red');\n",
    "\n",
    "# Attentive and no distraction\n",
    "an = data[(data[\"Complexity\"] == \"Attentive\") \n",
    "          & (data[\"Distraction\"] == \"No\")].reset_index(drop=True)\n",
    "an.index += 1\n",
    "an['Trial'] = an.index\n",
    "anPlot = an.plot(kind='scatter', \n",
    "                 x='Trial', \n",
    "                 y='ReactionTime',\n",
    "                 label='AN', \n",
    "                 color='green',\n",
    "                 ax=adPlot);\n",
    "\n",
    "#Pre-attentive and distraction\n",
    "pd = data[(data[\"Complexity\"] == \"Pre-attentive\") \n",
    "          & (data[\"Distraction\"] == \"Yes\")].reset_index(drop=True)\n",
    "pd.index += 1\n",
    "pd['Trial'] = pd.index\n",
    "pdPlot = pd.plot(kind='scatter',\n",
    "                 x='Trial',\n",
    "                         y='ReactionTime', label='PD', color='blue', ax=anPlot)\n",
    "\n",
    "# Pre-attentive and no distraction\n",
    "pn = data[(data[\"Complexity\"] == \"Pre-attentive\") \n",
    "          & (data[\"Distraction\"] == \"No\")].reset_index()\n",
    "pn.index += 1\n",
    "pn['Trial'] = pn.index\n",
    "pnPlot = pn.plot(kind='scatter', x='Trial',\n",
    "                         y='ReactionTime', label='PN', color='magenta', ax=pdPlot)\n",
    "pnPlot = pnPlot.set_ylabel(\"Reaction time in sec\")"
   ]
  },
  {
   "cell_type": "markdown",
   "metadata": {},
   "source": [
    "## Boxplot to visualize the reaction times of all conditions"
   ]
  },
  {
   "cell_type": "code",
   "execution_count": null,
   "metadata": {},
   "outputs": [],
   "source": [
    "times_per_condition = pandas.concat([ad['ReactionTime'], an['ReactionTime'], pd['ReactionTime'], \n",
    "                                     pn['ReactionTime'] ],axis=1, keys=['AD', 'AN', 'PD', 'PN'])\n",
    "boxplot_tpc = times_per_condition.boxplot(column=['AD', 'AN', 'PD', 'PN'])\n"
   ]
  },
  {
   "cell_type": "markdown",
   "metadata": {},
   "source": [
    "## Boxplot to visualize the reaction times for attentive and pre-attentive conditions"
   ]
  },
  {
   "cell_type": "code",
   "execution_count": null,
   "metadata": {},
   "outputs": [],
   "source": [
    "attentive = data[(data[\"Complexity\"] == \"Attentive\")].reset_index(drop=True)\n",
    "pre_attentive = data[(data[\"Complexity\"] == \"Pre-attentive\")].reset_index(drop=True)\n",
    "\n",
    "times_for_a_and_p = pandas.concat([attentive['ReactionTime'], pre_attentive[\"ReactionTime\"]],\n",
    "                                    axis=1, keys=['Attentive', 'Pre-Attentive'])\n",
    "\n",
    "boxplot_tfaap = times_for_a_and_p.boxplot(column=['Attentive', 'Pre-Attentive'])"
   ]
  },
  {
   "cell_type": "markdown",
   "metadata": {},
   "source": [
    "## t - Test to compare the reaction times for attentive and pre-attentive conditions"
   ]
  },
  {
   "cell_type": "code",
   "execution_count": null,
   "metadata": {},
   "outputs": [],
   "source": [
    "from scipy.stats import ttest_rel\n",
    "\n",
    "ttest_rel(times_for_a_and_p['Attentive'], times_for_a_and_p['Pre-Attentive'])\n",
    "\n"
   ]
  },
  {
   "cell_type": "markdown",
   "metadata": {},
   "source": [
    "## Boxplot to visualize the reaction times for distracted and non-distracted conditions"
   ]
  },
  {
   "cell_type": "code",
   "execution_count": null,
   "metadata": {},
   "outputs": [],
   "source": [
    "distracted = data[(data[\"Distraction\"] == \"Yes\")].reset_index(drop=True)\n",
    "non_distracted = data[(data[\"Distraction\"] == \"No\")].reset_index(drop=True)\n",
    "\n",
    "times_for_d_and_nd = pandas.concat([distracted['ReactionTime'], non_distracted[\"ReactionTime\"]],\n",
    "                                    axis=1, keys=['Distracted', 'Non-Distracted'])\n",
    "\n",
    "boxplot_tfdand = times_for_d_and_nd.boxplot(column=['Distracted', 'Non-Distracted'])"
   ]
  },
  {
   "cell_type": "markdown",
   "metadata": {},
   "source": [
    "## t - Test to compare the reaction times for distracted and non-distracted conditions"
   ]
  },
  {
   "cell_type": "code",
   "execution_count": null,
   "metadata": {},
   "outputs": [],
   "source": [
    "from scipy.stats import ttest_rel\n",
    "\n",
    "ttest_rel(times_for_d_and_nd['Distracted'], times_for_d_and_nd['Non-Distracted'])"
   ]
  },
  {
   "cell_type": "markdown",
   "metadata": {},
   "source": [
    "## Discussion and Results"
   ]
  },
  {
   "cell_type": "markdown",
   "metadata": {},
   "source": [
    "In our evaluation of the study, we plotted the logged reaction times of all done conditions, \n",
    "and then compared the reaction times of the attentive conditions with those of the pre-attentive conditions,\n",
    "as well as the ones of the distracted conditions with those of the non-distracted ones.\n",
    "\n",
    "To test wether there were any statistically significant differences between those conditions,\n",
    "a t-test for related samples was used (since the same participants were present in all of the conditions). \n",
    "\n",
    "For the comparison of the reaction times from attentive and pre-attentive conditions, the t-test showed \n",
    "a p-value of roughly 0.62, and we thus couldnt reject the null hypotheses that there is no difference \n",
    "between the mean of the attentive and the pre-attentive group.\n",
    "\n",
    "For the comparison of the reaction times from distracted and non-distracted conditions, \n",
    "the t-test showed a p-value of roughly 0.000012 , and we thus could reject the null hypotheses \n",
    "that there is no difference between the mean of the distracted and the non-distracted group. \n",
    "Those means were found to be significantly different from one another, with the distracted group \n",
    "having a higher mean reaction time to press the korresponding keys (as displayed in the boxplot)"
   ]
  }
 ],
 "metadata": {
  "kernelspec": {
   "display_name": "Python 3",
   "language": "python",
   "name": "python3"
  },
  "language_info": {
   "codemirror_mode": {
    "name": "ipython",
    "version": 3
   },
   "file_extension": ".py",
   "mimetype": "text/x-python",
   "name": "python",
   "nbconvert_exporter": "python",
   "pygments_lexer": "ipython3",
   "version": "3.7.3rc1"
  }
 },
 "nbformat": 4,
 "nbformat_minor": 2
}
