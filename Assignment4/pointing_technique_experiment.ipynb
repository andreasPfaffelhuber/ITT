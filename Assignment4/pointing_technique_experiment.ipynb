{
 "cells": [
  {
   "cell_type": "markdown",
   "metadata": {},
   "source": [
    "# Novel pointing technique"
   ]
  },
  {
   "cell_type": "markdown",
   "metadata": {},
   "source": [
    "## Description"
   ]
  },
  {
   "cell_type": "markdown",
   "metadata": {},
   "source": [
    "### Setup\n",
    "We conducted an experiment where multiple circles are presented on the screen and the participants had \n",
    "to click the only red-colored circle with a input device - in our case a mouse. Circles had a fixed size \n",
    "and target was always placed at a given distance from the current mouse position. We expected that our \n",
    "novel pointing technique should allow users to finish the tasks faster but we also suspected that it might \n",
    "also increase the error rate a bit because the extrapolated target could suddendly change before the user \n",
    "clicks it. We expected that this might be different for certain distances and did test it with low and \n",
    "high distances. \n",
    "\n",
    "#### Factors and Trials\n",
    "We got different factors and trials which will be presented in the following:\n",
    "- Pointing technique:\n",
    "    - Novel pointing technique: Selecting a target through extrapolation of recent mouse movement\n",
    "    - No novel pointing technique\n",
    "- Distance:\n",
    "    - High distance: The distance between the cursor and the target location is 300\n",
    "    - Low distance: The distance between the cursor and the target location is 150\n",
    "\n",
    "Therefore we had four different trials with two different stimuli and either a used novel pointing technique\n",
    "or no novel pointing technique:\n",
    "- Novel pointing technique with high distance (NH)\n",
    "- Novel pointing technique with low distance (NL)\n",
    "- Pointing with high distance (PH)\n",
    "- Pointing with low distance (PL)\n",
    "\n",
    "\n",
    "#### Variables\n",
    "- Independent: the used pointing technique (novel pointing technique or pointing) and whether there is a \n",
    "    high distance or low distance between the cursor and the target.\n",
    "- Dependent: time needed to click the correct target\n",
    "- Controlled: used mouse, finger position, circle size, window size\n",
    "- Confounding: limited through experiment in a laboratory and counterbalancing the trials through the\n",
    "    balanced latin square approach\n",
    "\n",
    "#### Hypotheses\n",
    "H0: \"The pointing performance with the novel pointing technique is not faster than without the novel pointing\n",
    "technique for low distances\"\n",
    "\n",
    "H1: \"The pointing performance with the novel pointing technique is faster than without the novel pointing \n",
    "technique for low distances\"\n",
    "\n",
    "H0: \"The pointing performance with the novel pointing technique is not faster than without the novel pointing \n",
    "technique for high distances\"\n",
    "\n",
    "H2: \"The pointing performance with the novel pointing technique is faster than without the novel pointing \n",
    "technique for high distances\"\n",
    "\n",
    "H0: \"The error rate with the novel pointing technique is not higher than without the novel pointing technique\n",
    "for low distances\"\n",
    "\n",
    "H3: \"The error rate with the novel pointing technique is higher than without the novel pointing technique \n",
    "for low distances\"\n",
    "\n",
    "H0: \"The error rate with the novel pointing technique is not higher than without the novel pointing technique\n",
    "for high distances\"\n",
    "\n",
    "H4: \"The error rate with the novel pointing technique is higher than without the novel pointing technique for \n",
    "high distances\"\n",
    "\n",
    "### Participants:\n",
    "The experiment was conducted with four participants. The participants had all experience with computers, were \n",
    "in the same age and had no health issues effecting the reaction time. Thereby we were able to ensure that \n",
    "everybody was quite on the same level, and that results should be representative for the given background."
   ]
  },
  {
   "cell_type": "markdown",
   "metadata": {},
   "source": [
    "## Data Handling"
   ]
  },
  {
   "cell_type": "code",
   "execution_count": null,
   "metadata": {
    "scrolled": true
   },
   "outputs": [],
   "source": [
    "%matplotlib inline\n",
    "import pandas\n",
    "\n",
    "# Reads in the csv file\n",
    "data = pandas.read_csv(\"data.csv\", \n",
    "                   sep=\",\", \n",
    "                   header=\"infer\", \n",
    "                   usecols=[\" user_id\", \n",
    "                            \" movement_time (ms)\",\n",
    "                            \" errors\",\n",
    "                            \" pointing_technique\",\n",
    "                            \" trial_name\"])\n",
    "# Extracts the relevant data\n",
    "data[\" user_id\"] = pandas.to_numeric(data[\" user_id\"])\n",
    "#data[\"movement_time (ms)\"] = pandas.to_timedelta(data[\"ReactionTime\"])\n",
    "#data[\"movement_time (ms)\"] = data[\"movement_time (ms)\"].dt.total_seconds()\n",
    "print(data)"
   ]
  },
  {
   "cell_type": "markdown",
   "metadata": {},
   "source": [
    "## Boxplots"
   ]
  },
  {
   "cell_type": "markdown",
   "metadata": {},
   "source": [
    "### Boxplot to visualize the task completion times (ms) of all participants"
   ]
  },
  {
   "cell_type": "code",
   "execution_count": null,
   "metadata": {
    "scrolled": true
   },
   "outputs": [],
   "source": [
    "# Participant 1\n",
    "p1 = data[(data[\" user_id\"] == 1)].reset_index()\n",
    "\n",
    "# Participant 2\n",
    "p2 = data[(data[\" user_id\"] == 2)].reset_index()\n",
    "\n",
    "# Participant 3\n",
    "p3 = data[(data[\" user_id\"] == 3)].reset_index()\n",
    "\n",
    "# Participant 4\n",
    "p4 = data[(data[\" user_id\"] == 4)].reset_index()\n",
    "\n",
    "times_per_participant = pandas.concat([p1[' movement_time (ms)'], \n",
    "                                       p2[' movement_time (ms)'], \n",
    "                                       p3[' movement_time (ms)'], \n",
    "                                       p4[' movement_time (ms)']], \n",
    "                                      axis=1, \n",
    "                                      keys=['P1', 'P2', 'P3', 'P4'])\n",
    "boxplot_tpc = times_per_participant.boxplot(column=['P1', 'P2', 'P3', 'P4'])\n",
    "boxplot_tpc.set_ylabel(\"Task completion time in msec\")\n",
    "boxplot_tpc = boxplot_tpc.set_xlabel(\"Participant\")"
   ]
  },
  {
   "cell_type": "markdown",
   "metadata": {},
   "source": [
    "### Boxplot to visualize the task completion times (ms) of all conditions"
   ]
  },
  {
   "cell_type": "code",
   "execution_count": null,
   "metadata": {},
   "outputs": [],
   "source": [
    "# Novel pointing technique with high distance (NH)\n",
    "nh = data[(data[\" trial_name\"] == \" NH\")].reset_index()\n",
    "\n",
    "# Novel pointing technique with low distance (NL)\n",
    "nl = data[(data[\" trial_name\"] == \" NL\")].reset_index()\n",
    "\n",
    "# Pointing with high distance (PH)\n",
    "ph = data[(data[\" trial_name\"] == \" PH\")].reset_index()\n",
    "\n",
    "# Pointing with low distance (PL)\n",
    "pl = data[(data[\" trial_name\"] == \" PL\")].reset_index()\n",
    "\n",
    "times_per_condition = pandas.concat([nh[' movement_time (ms)'], \n",
    "                                     nl[' movement_time (ms)'], \n",
    "                                     ph[' movement_time (ms)'], \n",
    "                                     pl[' movement_time (ms)']],\n",
    "                                    axis=1, \n",
    "                                    keys=['NH', 'NL', 'PH', 'PL'])\n",
    "boxplot_tpc = times_per_condition.boxplot(column=['NH', 'NL', 'PH', 'PL'])\n",
    "boxplot_tpc.set_ylabel(\"Task completion time in msec\")\n",
    "boxplot_tpc = boxplot_tpc.set_xlabel(\"Condition\")"
   ]
  },
  {
   "cell_type": "markdown",
   "metadata": {},
   "source": [
    "### Boxplot to visualize the amount of errors of all participants"
   ]
  },
  {
   "cell_type": "code",
   "execution_count": null,
   "metadata": {
    "scrolled": true
   },
   "outputs": [],
   "source": [
    "times_per_participant = pandas.concat([p1[' errors'], p2[' errors'], p3[' errors'], \n",
    "                                     p4[' errors']], axis=1, keys=['P1', 'P2', 'P3', 'P4'])\n",
    "boxplot_tpc = times_per_participant.boxplot(column=['P1', 'P2', 'P3', 'P4'])\n",
    "boxplot_tpc.set_ylabel(\"Errors\")\n",
    "boxplot_tpc = boxplot_tpc.set_xlabel(\"Participant\")"
   ]
  },
  {
   "cell_type": "markdown",
   "metadata": {},
   "source": [
    "### Boxplot to visualize the amount of errors of all conditions"
   ]
  },
  {
   "cell_type": "code",
   "execution_count": null,
   "metadata": {
    "scrolled": true
   },
   "outputs": [],
   "source": [
    "times_per_participant = pandas.concat([nh[' errors'], nl[' errors'], ph[' errors'], \n",
    "                                     pl[' errors']], axis=1, keys=['NH', 'NL', 'PH', 'PL'])\n",
    "boxplot_tpc = times_per_participant.boxplot(column=['NH', 'NL', 'PH', 'PL'])\n",
    "boxplot_tpc.set_ylabel(\"Errors\")\n",
    "boxplot_tpc = boxplot_tpc.set_xlabel(\"Condition\")"
   ]
  },
  {
   "cell_type": "markdown",
   "metadata": {},
   "source": [
    "## t - Test to compare the task completion times for with and without the novel pointing technique for low distances"
   ]
  },
  {
   "cell_type": "code",
   "execution_count": null,
   "metadata": {},
   "outputs": [],
   "source": [
    "from scipy.stats import ttest_rel\n",
    "\n",
    "ttest_rel(nl[' movement_time (ms)'], pl[' movement_time (ms)'])"
   ]
  },
  {
   "cell_type": "markdown",
   "metadata": {},
   "source": [
    "## t - Test to compare the task completion times for with and without the novel pointing technique for high distances"
   ]
  },
  {
   "cell_type": "code",
   "execution_count": null,
   "metadata": {
    "scrolled": true
   },
   "outputs": [],
   "source": [
    "ttest_rel(nh[' movement_time (ms)'], ph[' movement_time (ms)'])"
   ]
  },
  {
   "cell_type": "markdown",
   "metadata": {},
   "source": [
    "## t - Test to compare the amount of errors for with and without the novel pointing technique for low distances"
   ]
  },
  {
   "cell_type": "code",
   "execution_count": null,
   "metadata": {},
   "outputs": [],
   "source": [
    "ttest_rel(nl[' errors'], pl[' errors'])"
   ]
  },
  {
   "cell_type": "markdown",
   "metadata": {},
   "source": [
    "## t - Test to compare the amount of errors for with and without the novel pointing technique for high distances"
   ]
  },
  {
   "cell_type": "code",
   "execution_count": null,
   "metadata": {},
   "outputs": [],
   "source": [
    "ttest_rel(nh[' errors'], ph[' errors'])"
   ]
  },
  {
   "cell_type": "markdown",
   "metadata": {},
   "source": [
    "## Results & Discussion"
   ]
  },
  {
   "cell_type": "markdown",
   "metadata": {},
   "source": [
    "Initally we expected that our novel pointing technique would increase the user's performance."
   ]
  }
 ],
 "metadata": {
  "kernelspec": {
   "display_name": "Python 3",
   "language": "python",
   "name": "python3"
  },
  "language_info": {
   "codemirror_mode": {
    "name": "ipython",
    "version": 3
   },
   "file_extension": ".py",
   "mimetype": "text/x-python",
   "name": "python",
   "nbconvert_exporter": "python",
   "pygments_lexer": "ipython3",
   "version": "3.7.3rc1"
  }
 },
 "nbformat": 4,
 "nbformat_minor": 2
}
